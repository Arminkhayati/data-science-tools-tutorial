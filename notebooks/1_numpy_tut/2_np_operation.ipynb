{
 "cells": [
  {
   "cell_type": "code",
   "execution_count": 3,
   "metadata": {
    "collapsed": true
   },
   "outputs": [
    {
     "name": "stdout",
     "output_type": "stream",
     "text": [
      "[ 0  5 10 15]\n[1 2 3 4]\n"
     ]
    }
   ],
   "source": [
    "from numpy import *\n",
    "\n",
    "a = arange(0,20,5)\n",
    "b = arange(1,5)\n",
    "\n",
    "print(a)\n",
    "print(b)"
   ]
  },
  {
   "cell_type": "code",
   "execution_count": 7,
   "metadata": {},
   "outputs": [
    {
     "name": "stdout",
     "output_type": "stream",
     "text": [
      "[-1  3  7 11]\n[ 1  7 13 19]\n[ 1  4  9 16]\n[ 0 10 30 60]\n[  0.           4.54648713   1.41120008 -11.35203743]\n"
     ]
    }
   ],
   "source": [
    "c = a - b\n",
    "print(c)\n",
    "c = a + b\n",
    "print(c)\n",
    "\n",
    "c = b**2\n",
    "print(c)\n",
    "c = a * b #elementwise product\n",
    "print(c)\n",
    "c= a * sin(b)\n",
    "print(c)\n",
    "\n"
   ]
  },
  {
   "cell_type": "code",
   "execution_count": 9,
   "metadata": {},
   "outputs": [
    {
     "name": "stdout",
     "output_type": "stream",
     "text": [
      "  [[2 0]\n [0 4]]\n  [[5 4]\n [3 4]]\n  [[5 4]\n [3 4]]\n"
     ]
    }
   ],
   "source": [
    "A = array([[1,1],[0,1]])\n",
    "B = array([[2,0],[3,4]])\n",
    "c = A*B  #Elementwise product\n",
    "print(\" \" ,c)\n",
    "c = A @ B #Matrix Product\n",
    "print(\" \" ,c)\n",
    "c = A.dot(B)\n",
    "print(\" \" ,c) #Matrix product\n"
   ]
  },
  {
   "cell_type": "code",
   "execution_count": 11,
   "metadata": {},
   "outputs": [
    {
     "name": "stdout",
     "output_type": "stream",
     "text": [
      "[[0.27658997 0.64660696 0.71413428]\n [0.8549967  0.63891694 0.12405065]]\n3.2552954987448532\n"
     ]
    }
   ],
   "source": [
    "a = random.random((2,3))\n",
    "print(a)\n",
    "c = a.sum() # sum of all elements\n",
    "print(c)\n",
    "\n",
    "c = a.max()\n",
    "print(c)\n",
    "\n",
    "c = a.min()\n",
    "print(c)"
   ]
  },
  {
   "cell_type": "code",
   "execution_count": 18,
   "metadata": {},
   "outputs": [
    {
     "name": "stdout",
     "output_type": "stream",
     "text": [
      "[[ 0  1  2  3]\n [ 4  5  6  7]\n [ 8  9 10 11]]\nmax of each column =  [ 8  9 10 11]\nmin of each row =  [0 4 8]\ncumulative sum along each row : \n  [[ 0  1  3  6]\n [ 4  9 15 22]\n [ 8 17 27 38]]\n"
     ]
    }
   ],
   "source": [
    "a = arange(0,12).reshape((3,4))\n",
    "print(a)\n",
    "\n",
    "c = a.max(axis=0)\n",
    "print(\"max of each column = \" , c)\n",
    "\n",
    "c = a.min(axis=1)\n",
    "print(\"min of each row = \", c)\n",
    "\n",
    "c = a.cumsum(axis=1)\n",
    "print(\"cumulative sum along each row : \\n \" , c)\n"
   ]
  },
  {
   "cell_type": "code",
   "execution_count": 20,
   "metadata": {},
   "outputs": [
    {
     "name": "stdout",
     "output_type": "stream",
     "text": [
      "[[0.         1.         1.41421356 1.73205081]\n [2.         2.23606798 2.44948974 2.64575131]\n [2.82842712 3.         3.16227766 3.31662479]]\n[[1.00000000e+00 2.71828183e+00 7.38905610e+00 2.00855369e+01]\n [5.45981500e+01 1.48413159e+02 4.03428793e+02 1.09663316e+03]\n [2.98095799e+03 8.10308393e+03 2.20264658e+04 5.98741417e+04]]\n"
     ]
    }
   ],
   "source": [
    "# Universal functions like sin, cos ,sqrt, exp and etc... are operate elementwise on array\n",
    "# List of Universal functions :\n",
    "'''all, any, apply_along_axis, argmax, argmin, argsort, average, bincount, ceil,\n",
    " clip, conj, corrcoef, cov, cross, cumprod, cumsum, diff, dot, floor, inner, inv, \n",
    " lexsort, max, maximum, mean, median, min, minimum, nonzero, outer, prod, re, round, \n",
    " sort, std, sum, trace, transpose, var, vdot, vectorize, where'''\n",
    "\n",
    "print(sqrt(a))\n",
    "print(exp(a))"
   ]
  },
  {
   "cell_type": "code",
   "execution_count": 28,
   "metadata": {},
   "outputs": [
    {
     "name": "stdout",
     "output_type": "stream",
     "text": [
      "[ 0  1  4  9 16 25 36 49 64 81]\n4\n[ 4  9 16]\n[-1000     1 -1000     9 -1000    25    36    49    64    81]\n[   81    64    49    36    25 -1000     9 -1000     1 -1000]\n4.3267487109222245\n3.9999999999999996\n3.6593057100229713\n3.3019272488946263\n2.924017738212866\nnan\n2.080083823051904\nnan\n1.0\nnan\n"
     ]
    },
    {
     "name": "stderr",
     "output_type": "stream",
     "text": [
      "/home/armin/App/anaconda3/envs/newKeras/lib/python3.6/site-packages/ipykernel_launcher.py:13: RuntimeWarning: invalid value encountered in power\n  del sys.path[0]\n"
     ]
    }
   ],
   "source": [
    "#  arrays can be indexed, sliced and iterated over\n",
    "a = arange(0,10) ** 2\n",
    "\n",
    "print(a)\n",
    "print(a[2])\n",
    "print(a[2:5])\n",
    "a[0:6:2] = -1000  # from 0 to 6 set every 2nd element (2 ta 2 ta boro jolo) to -1000 \n",
    "print(a)\n",
    "a = a[ : :-1] # reverse a\n",
    "print(a)\n",
    "\n",
    "for i in a:\n",
    "    print(i**(1/3.))"
   ]
  },
  {
   "cell_type": "code",
   "execution_count": 39,
   "metadata": {},
   "outputs": [
    {
     "name": "stdout",
     "output_type": "stream",
     "text": [
      "[[ 0  1  2  3]\n [10 11 12 13]\n [20 21 22 23]\n [30 31 32 33]\n [40 41 42 43]]\n\n[ 1 11 21 31 41]\n[ 1 11 21 31 41]\n[[10 11 12 13]\n [20 21 22 23]]\n[40 41 42 43]\n0\n1\n2\n3\n10\n11\n12\n13\n20\n21\n22\n23\n30\n31\n32\n33\n40\n41\n42\n43\n"
     ]
    }
   ],
   "source": [
    " def f(x,y):\n",
    "     return 10*x+y\n",
    " b = fromfunction(f,(5,4),dtype=int)\n",
    " print(b)\n",
    " \n",
    " # first row ( x = 0 and y = 0,1,2,3 ) = 10*x + y = 0,1,2,3\n",
    " # second row ( x = 1 and y = 0,1,2,3 ) = 10*x + y = 10,11,12,13\n",
    " # .\n",
    " # .\n",
    " # last row ( x = 4 and y = 0,1,2,3 ) = 10*x + y = 40,41,42,43\n",
    " print()\n",
    " print(b[0:5, 1])                       # each row in the second column of b\n",
    " print(b[ : ,1])                        # equivalent to the previous example\n",
    " print(b[1:3, : ])                      # each column in the second and third row of b\n",
    " print( b[-1])                                  # the last row. Equivalent to b[-1,:])\n",
    " \n",
    "for i in b.flat:   # b.flat is an object\n",
    "    print(i)"
   ]
  },
  {
   "cell_type": "code",
   "execution_count": 49,
   "metadata": {},
   "outputs": [
    {
     "name": "stdout",
     "output_type": "stream",
     "text": [
      "[[1.82362019 0.04312125 4.32395491 1.74324053 7.09584695 4.57134785]\n [5.38736406 5.29680198 9.80027554 8.2069501  2.33240057 4.59454927]\n [0.37549235 8.90259048 1.27765998 5.94695691 6.53315793 1.8542774 ]\n [1.79750692 6.9517947  4.03132715 5.06340852 3.59561001 9.53295442]]\n\n\n\n[1.82362019 0.04312125 4.32395491 1.74324053 7.09584695 4.57134785\n 5.38736406 5.29680198 9.80027554 8.2069501  2.33240057 4.59454927\n 0.37549235 8.90259048 1.27765998 5.94695691 6.53315793 1.8542774\n 1.79750692 6.9517947  4.03132715 5.06340852 3.59561001 9.53295442]\n\n\n\n[[1.82362019 0.04312125]\n [4.32395491 1.74324053]\n [7.09584695 4.57134785]\n [5.38736406 5.29680198]\n [9.80027554 8.2069501 ]\n [2.33240057 4.59454927]\n [0.37549235 8.90259048]\n [1.27765998 5.94695691]\n [6.53315793 1.8542774 ]\n [1.79750692 6.9517947 ]\n [4.03132715 5.06340852]\n [3.59561001 9.53295442]]\n\n\n\nNone\n"
     ]
    }
   ],
   "source": [
    "a = 10 * random.random((4,6))\n",
    "print(a)\n",
    "print(\"\\n\\n\")\n",
    "\n",
    "print(a.ravel() ) # returns the array, flattened\n",
    "print(\"\\n\\n\")\n",
    "print(a.reshape(12,2)) # return new reshaped array\n",
    "print(\"\\n\\n\")\n",
    "print(a.resize((6,4))) # modify and reshape the array itself"
   ]
  },
  {
   "cell_type": "code",
   "execution_count": 52,
   "metadata": {},
   "outputs": [
    {
     "name": "stdout",
     "output_type": "stream",
     "text": [
      "True\nFalse\n"
     ]
    }
   ],
   "source": [
    " a = array([1,2,3])\n",
    " b = a\n",
    " print( b is a )\n",
    " \n",
    " c = array([3,4])\n",
    " print( a is c )"
   ]
  },
  {
   "cell_type": "code",
   "execution_count": 59,
   "metadata": {},
   "outputs": [
    {
     "name": "stdout",
     "output_type": "stream",
     "text": [
      "False\n\n\n\nFalse\n\n\n\n[[   0 1234    2    3    4]\n [   5    6    7    8    9]]\n\n\n\n[[   0 1234    2    3    4]\n [   5    6    7    8    9]]\n"
     ]
    }
   ],
   "source": [
    "# view() method creates a new array object that looks at the same data\n",
    "# array objects are different but the data are same\n",
    "# if you change value of a view array , the real array will change too\n",
    "\n",
    "a = arange(10).reshape(2,5)\n",
    "c = a.view()\n",
    "print(c is a)\n",
    "print(\"\\n\\n\")\n",
    "print(c.base is a)\n",
    "print(\"\\n\\n\")\n",
    "\n",
    "c[0,1] = 1234      \n",
    "\n",
    "print(a)\n",
    "\n",
    "# The copy method makes a complete copy of the array and its data.\n",
    "\n",
    "d = a.copy()\n",
    "\n",
    "d[0,1] = 2000\n",
    "\n",
    "print(\"\\n\\n\")\n",
    "print(a)\n"
   ]
  },
  {
   "cell_type": "code",
   "execution_count": 60,
   "metadata": {},
   "outputs": [
    {
     "data": {
      "text/plain": [
       "'\\nArray Creation\\narange, array, copy, empty, empty_like, eye, fromfile, fromfunction, identity, linspace,\\n logspace, mgrid, ogrid, ones, ones_like, r, zeros, zeros_like\\n\\nConversions\\nndarray.astype, atleast_1d, atleast_2d, atleast_3d, mat\\n\\nManipulations\\narray_split, column_stack, concatenate, diagonal, dsplit, dstack, hsplit, hstack, ndarray.item,\\n newaxis, ravel, repeat, reshape, resize, squeeze, swapaxes, take, transpose, vsplit, vstack\\n\\nQuestions\\nall, any, nonzero, where\\n\\nOrdering\\nargmax, argmin, argsort, max, min, ptp, searchsorted, sort\\n\\nOperations\\nchoose, compress, cumprod, cumsum, inner, ndarray.fill, imag, prod, put, putmask, real, sum\\n\\nBasic Statistics\\ncov, mean, std, var\\n\\nBasic Linear Algebra\\ncross, dot, outer, linalg.svd, vdot\\n\\n'"
      ]
     },
     "execution_count": 60,
     "metadata": {},
     "output_type": "execute_result"
    }
   ],
   "source": [
    "'''\n",
    "Array Creation\n",
    "arange, array, copy, empty, empty_like, eye, fromfile, fromfunction, identity, linspace,\n",
    " logspace, mgrid, ogrid, ones, ones_like, r, zeros, zeros_like\n",
    "\n",
    "Conversions\n",
    "ndarray.astype, atleast_1d, atleast_2d, atleast_3d, mat\n",
    "\n",
    "Manipulations\n",
    "array_split, column_stack, concatenate, diagonal, dsplit, dstack, hsplit, hstack, ndarray.item,\n",
    " newaxis, ravel, repeat, reshape, resize, squeeze, swapaxes, take, transpose, vsplit, vstack\n",
    "\n",
    "Questions\n",
    "all, any, nonzero, where\n",
    "\n",
    "Ordering\n",
    "argmax, argmin, argsort, max, min, ptp, searchsorted, sort\n",
    "\n",
    "Operations\n",
    "choose, compress, cumprod, cumsum, inner, ndarray.fill, imag, prod, put, putmask, real, sum\n",
    "\n",
    "Basic Statistics\n",
    "cov, mean, std, var\n",
    "\n",
    "Basic Linear Algebra\n",
    "cross, dot, outer, linalg.svd, vdot\n",
    "\n",
    "'''"
   ]
  },
  {
   "cell_type": "code",
   "execution_count": 66,
   "metadata": {},
   "outputs": [
    {
     "data": {
      "text/plain": [
       "array([  1,   0,   1,   0,   1,   2,   3,   2,   3,   4,   5,   4,   5,\n         4,   3,   4,   5,   6,   7,   6,   7,   6,   7,   6,   5,   4,\n         3,   4,   3,   2,   1,   2,   1,   2,   1,   0,  -1,   0,  -1,\n         0,   1,   0,  -1,   0,  -1,  -2,  -3,  -2,  -1,   0,  -1,   0,\n         1,   2,   3,   2,   3,   4,   5,   6,   5,   6,   7,   6,   7,\n         8,   9,  10,   9,   8,   7,   8,   7,   8,   9,   8,   7,   6,\n         7,   6,   7,   8,   9,   8,   9,  10,  11,  10,  11,  12,  11,\n        12,  13,  14,  15,  16,  17,  18,  19,  20,  21,  20,  21,  20,\n        21,  22,  21,  20,  19,  18,  17,  18,  17,  18,  17,  18,  19,\n        20,  21,  22,  21,  22,  23,  24,  25,  24,  25,  26,  27,  28,\n        27,  26,  25,  24,  25,  26,  27,  26,  25,  24,  25,  26,  27,\n        26,  27,  26,  27,  26,  25,  26,  25,  24,  25,  26,  25,  26,\n        27,  26,  25,  26,  27,  26,  27,  26,  25,  26,  27,  26,  27,\n        26,  27,  28,  29,  30,  29,  28,  29,  28,  27,  26,  27,  26,\n        27,  28,  27,  28,  27,  28,  27,  26,  27,  26,  27,  28,  29,\n        28,  27,  28,  27,  28,  27,  28,  29,  30,  31,  30,  31,  30,\n        31,  32,  31,  30,  29,  30,  31,  30,  29,  28,  27,  26,  25,\n        24,  23,  24,  23,  24,  25,  26,  27,  26,  27,  26,  27,  26,\n        27,  26,  27,  26,  25,  26,  25,  26,  27,  28,  27,  28,  27,\n        28,  29,  28,  27,  28,  27,  28,  27,  28,  27,  26,  25,  24,\n        23,  24,  23,  22,  21,  22,  21,  22,  21,  22,  21,  22,  23,\n        22,  23,  22,  21,  22,  21,  22,  23,  24,  23,  22,  21,  22,\n        23,  22,  21,  20,  19,  18,  17,  18,  19,  20,  19,  18,  19,\n        20,  19,  20,  21,  22,  21,  22,  21,  20,  21,  20,  21,  22,\n        23,  24,  25,  24,  23,  24,  23,  22,  23,  22,  23,  24,  23,\n        22,  23,  22,  23,  24,  25,  26,  27,  26,  27,  28,  29,  28,\n        29,  28,  27,  26,  27,  28,  29,  28,  27,  26,  25,  24,  23,\n        24,  23,  22,  23,  22,  21,  22,  21,  22,  21,  22,  21,  20,\n        19,  20,  21,  22,  21,  22,  21,  22,  21,  20,  21,  20,  19,\n        18,  19,  20,  21,  22,  23,  24,  23,  22,  23,  22,  21,  20,\n        21,  20,  21,  20,  21,  20,  19,  18,  17,  16,  17,  16,  15,\n        16,  17,  16,  17,  18,  19,  20,  21,  20,  19,  20,  21,  20,\n        19,  20,  19,  18,  17,  18,  19,  18,  19,  18,  17,  16,  17,\n        16,  17,  16,  17,  16,  15,  14,  13,  12,  11,  12,  13,  12,\n        11,  10,   9,  10,  11,  10,  11,  12,  13,  14,  15,  16,  15,\n        16,  15,  14,  15,  16,  17,  18,  17,  16,  15,  16,  15,  16,\n        17,  18,  17,  16,  17,  16,  17,  16,  15,  14,  13,  14,  13,\n        14,  15,  16,  17,  18,  19,  18,  17,  16,  17,  18,  17,  18,\n        17,  16,  15,  14,  13,  12,  11,  12,  13,  12,  13,  14,  15,\n        14,  13,  14,  15,  16,  17,  18,  19,  18,  19,  18,  19,  18,\n        19,  18,  17,  18,  17,  16,  15,  14,  15,  16,  15,  16,  17,\n        18,  19,  18,  17,  18,  17,  16,  17,  16,  15,  14,  13,  12,\n        13,  12,  13,  14,  13,  14,  15,  14,  13,  12,  13,  12,  13,\n        12,  13,  14,  15,  14,  15,  16,  15,  14,  15,  14,  13,  14,\n        13,  14,  13,  12,  11,  12,  11,  10,  11,  12,  11,  10,  11,\n        10,   9,   8,   9,  10,   9,   8,   9,  10,   9,   8,   9,  10,\n         9,   8,   7,   6,   7,   8,   7,   6,   7,   6,   7,   8,   7,\n         6,   5,   4,   3,   4,   3,   2,   1,   2,   1,   0,   1,   0,\n        -1,   0,   1,   0,   1,   0,   1,   0,   1,   0,   1,   0,  -1,\n         0,  -1,   0,   1,   0,   1,   0,   1,   2,   1,   0,   1,   2,\n         1,   2,   1,   0,  -1,  -2,  -1,   0,   1,   0,  -1,  -2,  -1,\n         0,   1,   2,   1,   0,  -1,   0,   1,   2,   3,   4,   5,   4,\n         5,   4,   3,   2,   3,   4,   3,   4,   3,   2,   1,   0,  -1,\n        -2,  -1,   0,   1,   0,  -1,  -2,  -1,   0,   1,   0,  -1,  -2,\n        -3,  -4,  -5,  -6,  -7,  -6,  -5,  -6,  -7,  -6,  -5,  -6,  -7,\n        -6,  -5,  -4,  -5,  -6,  -7,  -8,  -7,  -8,  -9,  -8,  -9,  -8,\n        -9, -10,  -9,  -8,  -7,  -6,  -5,  -6,  -5,  -4,  -5,  -4,  -5,\n        -4,  -3,  -4,  -3,  -4,  -3,  -4,  -3,  -2,  -3,  -2,  -1,   0,\n        -1,  -2,  -3,  -4,  -3,  -2,  -1,   0,   1,   0,   1,   0,   1,\n         2,   3,   2,   1,   0,   1,   2,   3,   2,   3,   4,   3,   2,\n         3,   4,   5,   4,   5,   4,   3,   4,   3,   4,   5,   6,   7,\n         6,   5,   4,   3,   2,   3,   2,   3,   4,   5,   6,   5,   4,\n         3,   4,   3,   2,   1,   2,   3,   2,   1,   0,   1,   2,   1,\n         0,  -1,  -2,  -3,  -4,  -5,  -6,  -7,  -8,  -9, -10, -11, -12,\n       -11, -12, -11, -12, -11, -12, -13, -12, -11, -12, -13, -12, -13,\n       -12, -13, -12, -11, -10, -11, -10,  -9,  -8,  -7,  -8,  -7,  -8,\n        -7,  -6,  -5,  -4,  -5,  -6,  -7,  -6,  -7,  -8,  -9, -10, -11,\n       -10,  -9, -10, -11, -12, -13, -14, -13, -14, -15, -14, -15, -16,\n       -17, -18, -17, -16, -15, -16, -15, -16, -17, -18, -19, -18, -19,\n       -20, -21, -22, -23, -22, -21, -22, -23, -24, -23, -24, -23, -24,\n       -25, -26, -27, -28, -27, -26, -27, -28, -29, -28, -29, -28, -27,\n       -28, -29, -28, -27, -26, -25, -24, -25, -26, -27, -28, -27, -28,\n       -29, -28, -29, -28, -29, -28, -27, -26, -25, -26, -25, -26, -27,\n       -28, -27, -26, -27, -26, -25, -26, -27, -28, -29, -30, -29, -30,\n       -29, -28, -29, -30, -29, -30, -29, -28, -27, -26, -27, -26, -25,\n       -26, -27, -28, -29, -30, -29, -28, -29, -30, -29, -30, -29, -28,\n       -29, -30, -29, -30, -29, -28, -27, -28, -27, -28, -29, -30])"
      ]
     },
     "execution_count": 66,
     "metadata": {},
     "output_type": "execute_result"
    }
   ],
   "source": [
    "nsteps = 1000\n",
    "draws = random.randint(0, 2, size=nsteps)\n",
    "draws.size\n",
    "steps = where(draws > 0, 1, -1)\n",
    "walk = steps.cumsum()\n",
    "walk"
   ]
  },
  {
   "cell_type": "code",
   "execution_count": 1,
   "metadata": {},
   "outputs": [],
   "source": []
  },
  {
   "cell_type": "code",
   "execution_count": null,
   "metadata": {},
   "outputs": [],
   "source": []
  }
 ],
 "metadata": {
  "kernelspec": {
   "display_name": "Python 2",
   "language": "python",
   "name": "python2"
  },
  "language_info": {
   "codemirror_mode": {
    "name": "ipython",
    "version": 2
   },
   "file_extension": ".py",
   "mimetype": "text/x-python",
   "name": "python",
   "nbconvert_exporter": "python",
   "pygments_lexer": "ipython2",
   "version": "2.7.6"
  }
 },
 "nbformat": 4,
 "nbformat_minor": 0
}
