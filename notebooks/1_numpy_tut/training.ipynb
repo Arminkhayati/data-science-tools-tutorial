{
 "cells": [
  {
   "cell_type": "code",
   "execution_count": 1,
   "metadata": {
    "collapsed": true
   },
   "outputs": [
    {
     "name": "stdout",
     "output_type": "stream",
     "text": [
      "[[ 0  1  2  3  4]\n [ 5  6  7  8  9]\n [10 11 12 13 14]] \n\nshape =  (3, 5) \n\ndimension =  2 \n\nsize =  15 \n\ndtype =  int64 \n\nitem size =  8 \n \n"
     ]
    }
   ],
   "source": [
    "from numpy import *\n",
    "\n",
    "a = arange(0,15).reshape(3,5)\n",
    "print(a , \"\\n\")\n",
    "\n",
    "print('shape = ' , shape(a) , \"\\n\")\n",
    "print('dimension = ', ndim(a), \"\\n\")\n",
    "print('size = ', size(a), \"\\n\")\n",
    "print('dtype = ', dtype(a[0,0]).name, \"\\n\")\n",
    "print('item size = ', a.itemsize, \"\\n \")"
   ]
  },
  {
   "cell_type": "code",
   "execution_count": 37,
   "metadata": {},
   "outputs": [
    {
     "name": "stdout",
     "output_type": "stream",
     "text": [
      "[[0. 0. 0. 0. 0.]\n [0. 0. 0. 0. 0.]\n [0. 0. 0. 0. 0.]] \n\n[[1. 1. 1. 1. 1.]\n [1. 1. 1. 1. 1.]\n [1. 1. 1. 1. 1.]] \n\n[[6.94720450e-310 6.94720450e-310 6.94720450e-310 6.94720450e-310\n  6.94720449e-310]\n [6.94720450e-310 6.94720450e-310 6.94720450e-310 6.94720448e-310\n  6.94720450e-310]\n [6.94720450e-310 6.94720450e-310 6.94720450e-310 6.94720450e-310\n  6.94720066e-310]\n [4.00193173e-322 4.67841451e-310 6.94720429e-310 6.94720054e-310\n  1.26593885e-281]] \n\n"
     ]
    }
   ],
   "source": [
    "print( zeros((3,5), float64), \"\\n\" )\n",
    "\n",
    "print( ones((3,5), float64), \"\\n\" )\n",
    "\n",
    "print( empty((4,5)) , \"\\n\")"
   ]
  },
  {
   "cell_type": "code",
   "execution_count": 39,
   "metadata": {},
   "outputs": [
    {
     "name": "stdout",
     "output_type": "stream",
     "text": [
      "[10 15 20 25] \n\n[0.         0.22222222 0.44444444 0.66666667 0.88888889 1.11111111\n 1.33333333 1.55555556 1.77777778 2.        ] \n\n"
     ]
    }
   ],
   "source": [
    "print(  arange(10,30,5,int64) , \"\\n\")\n",
    "\n",
    "print( linspace(0 , 2 , 10) , \"\\n\")"
   ]
  },
  {
   "cell_type": "code",
   "execution_count": null,
   "metadata": {},
   "outputs": [],
   "source": [
    "arange(4)"
   ]
  },
  {
   "cell_type": "code",
   "execution_count": null,
   "metadata": {},
   "outputs": [],
   "source": []
  }
 ],
 "metadata": {
  "kernelspec": {
   "display_name": "Python 2",
   "language": "python",
   "name": "python2"
  },
  "language_info": {
   "codemirror_mode": {
    "name": "ipython",
    "version": 2
   },
   "file_extension": ".py",
   "mimetype": "text/x-python",
   "name": "python",
   "nbconvert_exporter": "python",
   "pygments_lexer": "ipython2",
   "version": "2.7.6"
  }
 },
 "nbformat": 4,
 "nbformat_minor": 0
}
