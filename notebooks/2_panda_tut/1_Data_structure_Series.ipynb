{
 "cells": [
  {
   "cell_type": "code",
   "execution_count": 2,
   "metadata": {
    "collapsed": false
   },
   "outputs": [
    {
     "data": {
      "text/plain": [
       "RangeIndex(start=0, stop=5, step=1)"
      ]
     },
     "execution_count": 2,
     "metadata": {},
     "output_type": "execute_result"
    }
   ],
   "source": [
    "'''\n",
    "A Series is a one-dimensional array-like object containing a sequence of values (of\n",
    "similar types to NumPy types) and an associated array of data labels, called its index. \n",
    "The simplest Series is formed from only an array of data.\n",
    "Another way to think about a Series is as a fixed-length, ordered dict, as it is a map‐\n",
    "ping of index values to data values.\n",
    "'''\n",
    "\n",
    "import pandas as pd\n",
    "\n",
    "arr = pd.Series([1,2,3,4,5])\n",
    "# print(arr.to_string(dtype=True,name=True))\n",
    "arr.index"
   ]
  },
  {
   "cell_type": "code",
   "execution_count": 23,
   "metadata": {},
   "outputs": [
    {
     "name": "stdout",
     "output_type": "stream",
     "text": [
      "1\na    1\nb    2\nc    3\ndtype: int64\n\n\nc    3\nd    4\ndtype: int64\n\n\na    2\nb    4\nc    6\nd    8\ndtype: int64\n\n\nFalse\n"
     ]
    }
   ],
   "source": [
    "arr2 = pd.Series([1,2,3,4],index=['a','b','c','d'])\n",
    "# arr2.index\n",
    "print(arr2['a'])\n",
    "print(arr2[['a','b','c']])\n",
    "print(\"\\n\")\n",
    "print(arr2[arr2 > 2])\n",
    "print(\"\\n\")\n",
    "print(arr2 * 2)\n",
    "\n",
    "print(\"\\n\")\n",
    "print( 'g' in arr2)"
   ]
  },
  {
   "cell_type": "code",
   "execution_count": 44,
   "metadata": {},
   "outputs": [
    {
     "data": {
      "text/plain": [
       "iran       10\nbushehr     1\nshiraz     20\ntehran     33\ndtype: int64"
      ]
     },
     "execution_count": 44,
     "metadata": {},
     "output_type": "execute_result"
    }
   ],
   "source": [
    "someDict = {'iran' : 10,'bushehr': 1,'shiraz':20,'tehran': 33}\n",
    "arr3 = pd.Series(someDict)\n",
    "arr3"
   ]
  },
  {
   "cell_type": "code",
   "execution_count": 46,
   "metadata": {},
   "outputs": [
    {
     "name": "stdout",
     "output_type": "stream",
     "text": [
      "iran        True\ntabriz     False\nshiraz      True\nbushehr     True\ndtype: bool\n\n\nbushehr     2.0\niran       20.0\nshiraz     40.0\ntabriz      NaN\ntehran      NaN\ndtype: float64\n"
     ]
    }
   ],
   "source": [
    "names_order = ['iran','tabriz','shiraz','bushehr']\n",
    "arr4 = pd.Series(someDict, names_order)\n",
    "\n",
    "print(pd.notnull(arr4))\n",
    "print(\"\\n\")\n",
    "print(arr3 + arr4)"
   ]
  },
  {
   "cell_type": "code",
   "execution_count": 48,
   "metadata": {},
   "outputs": [
    {
     "data": {
      "text/plain": [
       "states\niran       10.0\ntabriz      NaN\nshiraz     20.0\nbushehr     1.0\nName: population, dtype: float64"
      ]
     },
     "execution_count": 48,
     "metadata": {},
     "output_type": "execute_result"
    }
   ],
   "source": [
    "arr4.name = 'population'\n",
    "arr4.index.name = 'states'\n",
    "arr4"
   ]
  },
  {
   "cell_type": "code",
   "execution_count": 4,
   "metadata": {},
   "outputs": [
    {
     "data": {
      "text/plain": [
       "DatetimeIndex(['2000-01-01', '2000-01-02', '2000-01-03', '2000-01-04',\n               '2000-01-05', '2000-01-06', '2000-01-07', '2000-01-08',\n               '2000-01-09', '2000-01-10', '2000-01-11', '2000-01-12',\n               '2000-01-13', '2000-01-14', '2000-01-15', '2000-01-16',\n               '2000-01-17', '2000-01-18', '2000-01-19', '2000-01-20'],\n              dtype='datetime64[ns]', freq='D')"
      ]
     },
     "execution_count": 4,
     "metadata": {},
     "output_type": "execute_result"
    }
   ],
   "source": [
    "pd.date_range('1/1/2000', periods=20)"
   ]
  },
  {
   "cell_type": "code",
   "execution_count": 11,
   "metadata": {},
   "outputs": [
    {
     "data": {
      "text/plain": [
       "2    NaN\ndtype: object"
      ]
     },
     "execution_count": 11,
     "metadata": {},
     "output_type": "execute_result"
    }
   ],
   "source": [
    "string_data = pd.Series(['aardvark', 'artichoke', np.nan, 'avocado'])\n",
    "string_data[string_data.isnull() == True]"
   ]
  },
  {
   "cell_type": "code",
   "execution_count": null,
   "metadata": {},
   "outputs": [],
   "source": []
  }
 ],
 "metadata": {
  "kernelspec": {
   "display_name": "Python 2",
   "language": "python",
   "name": "python2"
  },
  "language_info": {
   "codemirror_mode": {
    "name": "ipython",
    "version": 2
   },
   "file_extension": ".py",
   "mimetype": "text/x-python",
   "name": "python",
   "nbconvert_exporter": "python",
   "pygments_lexer": "ipython2",
   "version": "2.7.6"
  }
 },
 "nbformat": 4,
 "nbformat_minor": 0
}
