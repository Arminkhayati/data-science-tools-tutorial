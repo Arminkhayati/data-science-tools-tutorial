{
 "cells": [
  {
   "cell_type": "code",
   "execution_count": 3,
   "metadata": {
    "collapsed": true
   },
   "outputs": [
    {
     "data": {
      "text/plain": [
       "Dave     dave@google.com\nSteve    steve@gmail.com\nRob        rob@gmail.com\nWes                  NaN\ndtype: object"
      ]
     },
     "execution_count": 3,
     "metadata": {},
     "output_type": "execute_result"
    }
   ],
   "source": [
    "import numpy as np\n",
    "import pandas as pd\n",
    "\n",
    "data = {'Dave': 'dave@google.com', 'Steve': 'steve@gmail.com', \n",
    "        'Rob': 'rob@gmail.com', 'Wes': np.nan}\n",
    "\n",
    "data = pd.Series(data)\n",
    "data"
   ]
  },
  {
   "cell_type": "code",
   "execution_count": 4,
   "metadata": {},
   "outputs": [
    {
     "data": {
      "text/plain": [
       "Dave     False\nSteve    False\nRob      False\nWes       True\ndtype: bool"
      ]
     },
     "execution_count": 4,
     "metadata": {},
     "output_type": "execute_result"
    }
   ],
   "source": [
    "data.isnull()"
   ]
  },
  {
   "cell_type": "code",
   "execution_count": 8,
   "metadata": {},
   "outputs": [
    {
     "data": {
      "text/plain": [
       "Dave     False\nSteve     True\nRob       True\nWes        NaN\ndtype: object"
      ]
     },
     "execution_count": 8,
     "metadata": {},
     "output_type": "execute_result"
    }
   ],
   "source": [
    "'''\n",
    "You can apply string and regular expression methods can be applied (passing a\n",
    "lambda or other function) to each value using data.map , but it will fail on the NA\n",
    "(null) values. To cope with this, Series has array-oriented methods for string opera‐\n",
    "tions that skip NA values. These are accessed through Series’s str attribute; for exam‐\n",
    "ple, we could check whether each email address has 'gmail' in it with str.contains\n",
    "'''\n",
    "\n",
    "data.str.contains('gmail')"
   ]
  },
  {
   "cell_type": "code",
   "execution_count": 19,
   "metadata": {},
   "outputs": [
    {
     "data": {
      "text/plain": [
       "Dave     [(dave, google, com)]\nSteve    [(steve, gmail, com)]\nRob        [(rob, gmail, com)]\nWes                        NaN\ndtype: object"
      ]
     },
     "execution_count": 19,
     "metadata": {},
     "output_type": "execute_result"
    }
   ],
   "source": [
    "pattern = '([A-Z0-9._%+-]+)@([A-Z0-9.-]+)\\\\.([A-Z]{2,4})'\n",
    "import re\n",
    "data.str.findall(pattern,flags=re.IGNORECASE)\n"
   ]
  },
  {
   "cell_type": "code",
   "execution_count": 22,
   "metadata": {},
   "outputs": [
    {
     "data": {
      "text/plain": [
       "Dave     True\nSteve    True\nRob      True\nWes       NaN\ndtype: object"
      ]
     },
     "execution_count": 22,
     "metadata": {},
     "output_type": "execute_result"
    }
   ],
   "source": [
    "matches = data.str.match(pattern, flags=re.IGNORECASE)\n",
    "matches"
   ]
  },
  {
   "cell_type": "code",
   "execution_count": 30,
   "metadata": {},
   "outputs": [
    {
     "data": {
      "text/plain": [
       "Dave     dave@\nSteve    steve\nRob      rob@g\nWes        NaN\ndtype: object"
      ]
     },
     "execution_count": 30,
     "metadata": {},
     "output_type": "execute_result"
    }
   ],
   "source": [
    "data.str[:5]\n"
   ]
  },
  {
   "cell_type": "code",
   "execution_count": null,
   "metadata": {},
   "outputs": [],
   "source": [
    "'''\n",
    "cat -> Concatenate strings element-wise with optional delimiter\n",
    "\n",
    "contains -> Return boolean array if each string contains pattern/regex\n",
    "\n",
    "count -> Count occurrences of pattern\n",
    "\n",
    "extract -> Use a regular expression with groups to extract one or more strings from a\n",
    "            Series of strings; the result will be a DataFrame with one column per group\n",
    "\n",
    "startswith -> Equivalent to x.startswith(pattern) for each element\n",
    "\n",
    "endswith -> Equivalent to x.endswith(pattern) for each element\n",
    "\n",
    "findall -> Compute list of all occurrences of pattern/regex for each string\n",
    "\n",
    "get -> Index into each element (retrieve i-th element)\n",
    "\n",
    "isalnum\n",
    "Equivalent to built-in str.alnum\n",
    "\n",
    "isalpha\n",
    "Equivalent to built-in str.isalpha\n",
    "\n",
    "isdecimal\n",
    "Equivalent to built-in str.isdecimal\n",
    "\n",
    "isdigit\n",
    "Equivalent to built-in str.isdigit\n",
    "\n",
    "islower\n",
    "Equivalent to built-in str.islower\n",
    "\n",
    "isnumeric\n",
    "Equivalent to built-in str.isnumeric\n",
    "\n",
    "isupper\n",
    "Equivalent to built-in str.isupper\n",
    "\n",
    "join\n",
    "Join strings in each element of the Series with passed separator\n",
    "\n",
    "len\n",
    "Compute length of each string\n",
    "\n",
    "lower, upper -> Convert cases; equivalent to x.lower() or x.upper() for each element\n",
    "\n",
    "\n",
    "match\n",
    "Use re.match with the passed regular expression on each element, returning matched groups as list\n",
    "\n",
    "pad\n",
    "Add whitespace to left, right, or both sides of strings\n",
    "\n",
    "center\n",
    "Equivalent to pad(side='both')\n",
    "\n",
    "repeat\n",
    "Duplicate values (e.g., s.str.repeat(3) is equivalent to x * 3 for each string)\n",
    "\n",
    "replace\n",
    "Replace occurrences of pattern/regex with some other string\n",
    "\n",
    "slice\n",
    "Slice each string in the Series\n",
    "\n",
    "split\n",
    "Split strings on delimiter or regular expression\n",
    "\n",
    "strip\n",
    "Trim whitespace from both sides, including newlines\n",
    "\n",
    "rstrip\n",
    "Trim whitespace on right side\n",
    "\n",
    "lstrip\n",
    "Trim whitespace on left side\n",
    "'''"
   ]
  }
 ],
 "metadata": {
  "kernelspec": {
   "display_name": "Python 2",
   "language": "python",
   "name": "python2"
  },
  "language_info": {
   "codemirror_mode": {
    "name": "ipython",
    "version": 2
   },
   "file_extension": ".py",
   "mimetype": "text/x-python",
   "name": "python",
   "nbconvert_exporter": "python",
   "pygments_lexer": "ipython2",
   "version": "2.7.6"
  }
 },
 "nbformat": 4,
 "nbformat_minor": 0
}
