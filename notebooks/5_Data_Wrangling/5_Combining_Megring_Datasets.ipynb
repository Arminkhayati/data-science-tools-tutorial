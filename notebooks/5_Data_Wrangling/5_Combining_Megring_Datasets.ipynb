{
 "cells": [
  {
   "cell_type": "code",
   "execution_count": 1,
   "metadata": {
    "collapsed": true
   },
   "outputs": [
    {
     "data": {
      "text/plain": [
       "'\\nData contained in pandas objects can be combined together in a number of ways:\\n• pandas.merge connects rows in DataFrames based on one or more keys. This\\nwill be familiar to users of SQL or other relational databases, as it implements\\ndatabase join operations.\\n• pandas.concat concatenates or “stacks” together objects along an axis.\\n• The combine_first instance method enables splicing together overlapping data\\nto fill in missing values in one object with values from another.\\nI will address each of these and give a number of examples. They’ll be utilized in\\nexamples throughout the rest of the book.\\n'"
      ]
     },
     "execution_count": 1,
     "metadata": {},
     "output_type": "execute_result"
    }
   ],
   "source": [
    "import pandas as pd\n",
    "\n",
    "'''\n",
    "Data contained in pandas objects can be combined together in a number of ways:\n",
    "• pandas.merge connects rows in DataFrames based on one or more keys. This\n",
    "will be familiar to users of SQL or other relational databases, as it implements\n",
    "database join operations.\n",
    "• pandas.concat concatenates or “stacks” together objects along an axis.\n",
    "• The combine_first instance method enables splicing together overlapping data\n",
    "to fill in missing values in one object with values from another.\n",
    "I will address each of these and give a number of examples. They’ll be utilized in\n",
    "examples throughout the rest of the book.\n",
    "'''"
   ]
  },
  {
   "cell_type": "code",
   "execution_count": null,
   "metadata": {},
   "outputs": [],
   "source": []
  }
 ],
 "metadata": {
  "kernelspec": {
   "display_name": "Python 3",
   "language": "python",
   "name": "python3"
  },
  "language_info": {
   "codemirror_mode": {
    "name": "ipython",
    "version": 3
   },
   "file_extension": ".py",
   "mimetype": "text/x-python",
   "name": "python",
   "nbconvert_exporter": "python",
   "pygments_lexer": "ipython3",
   "version": "3.9.6"
  }
 },
 "nbformat": 4,
 "nbformat_minor": 1
}
