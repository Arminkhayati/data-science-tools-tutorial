{
 "cells": [
  {
   "cell_type": "code",
   "execution_count": 6,
   "metadata": {
    "collapsed": true
   },
   "outputs": [
    {
     "data": {
      "text/plain": [
       "'\\nPlots in matplotlib reside within a Figure object. You can create a new figure with\\nplt.figure\\n'"
      ]
     },
     "execution_count": 6,
     "metadata": {},
     "output_type": "execute_result"
    }
   ],
   "source": [
    "import matplotlib.pyplot as plt\n",
    "import numpy as np \n",
    "\n",
    "'''\n",
    "Plots in matplotlib reside within a Figure object. You can create a new figure with\n",
    "plt.figure\n",
    "'''\n"
   ]
  },
  {
   "cell_type": "code",
   "execution_count": 7,
   "metadata": {},
   "outputs": [
    {
     "data": {
      "text/plain": [
       "<matplotlib.collections.PathCollection at 0x7f1e2b21bbe0>"
      ]
     },
     "execution_count": 7,
     "metadata": {},
     "output_type": "execute_result"
    },
    {
     "data": {
      "image/png": "[encoded data removed]",
      "text/plain": [
       "<Figure size 432x288 with 3 Axes>"
      ]
     },
     "metadata": {},
     "output_type": "display_data"
    }
   ],
   "source": [
    "'''\n",
    "You can’t make a plot with a blank figure. You have to create one or more subplots\n",
    "using add_subplot\n",
    "'''\n",
    "fig = plt.figure()\n",
    "ax1 = fig.add_subplot(2,2,1)\n",
    "# This means that the figure should be 2 × 2 (so up to four plots in total), and we’re\n",
    "# selecting the first of four subplots (numbered from 1). If you create the next two sub‐\n",
    "# plots, you’ll end up with a visualization that looks like\n",
    "ax2 = fig.add_subplot(2,2,2)\n",
    "ax3 = fig.add_subplot(2,2,3)\n",
    "\n",
    "'''\n",
    "One nuance of using Jupyter notebooks is that plots are reset after\n",
    "each cell is evaluated, so for more complex plots you must put all of\n",
    "the plotting commands in a single notebook cell.\n",
    "'''\n",
    "'''\n",
    "When you issue a plotting command like plt.plot([1.5, 3.5, -2, 1.6]) , mat‐\n",
    "plotlib draws on the last figure and subplot used (creating one if necessary), thus hid‐\n",
    "ing the figure and subplot creation. So if we add the following command, you’ll get\n",
    "something like\n",
    "'''\n",
    "plt.plot(np.random.randn(50).cumsum(), 'k--')\n",
    "\n",
    "'''\n",
    "The 'k--' is a style option instructing matplotlib to plot a black dashed line. The\n",
    "objects returned by fig.add_subplot here are AxesSubplot objects, on which you\n",
    "can directly plot on the other empty subplots by calling each one’s instance method\n",
    "'''\n",
    "\n",
    "_ = ax1.hist(np.random.randn(100), bins=20, color='k', alpha=0.3)\n",
    "ax2.scatter(np.arange(30), np.arange(30) + 3 * np.random.randn(30))\n",
    "\n",
    "'''\n",
    "You can find a comprehensive catalog of plot types in the\n",
    "http://matplotlib.sourceforge.net\n",
    "'''"
   ]
  },
  {
   "cell_type": "code",
   "execution_count": 9,
   "metadata": {},
   "outputs": [
    {
     "data": {
      "text/plain": [
       "array([[<matplotlib.axes._subplots.AxesSubplot object at 0x7f1e2b1eab00>,\n",
       "        <matplotlib.axes._subplots.AxesSubplot object at 0x7f1e2b1d0588>,\n",
       "        <matplotlib.axes._subplots.AxesSubplot object at 0x7f1e2b175c18>],\n",
       "       [<matplotlib.axes._subplots.AxesSubplot object at 0x7f1e2b1282e8>,\n",
       "        <matplotlib.axes._subplots.AxesSubplot object at 0x7f1e2b1509b0>,\n",
       "        <matplotlib.axes._subplots.AxesSubplot object at 0x7f1e2b101048>]],\n",
       "      dtype=object)"
      ]
     },
     "execution_count": 9,
     "metadata": {},
     "output_type": "execute_result"
    },
    {
     "data": {
      "image/png": "[encoded data removed]",
      "text/plain": [
       "<Figure size 432x288 with 6 Axes>"
      ]
     },
     "metadata": {},
     "output_type": "display_data"
    }
   ],
   "source": [
    "'''\n",
    "Creating a figure with a grid of subplots is a very common task, so matplotlib\n",
    "includes a convenience method, plt.subplots , that creates a new figure and returns\n",
    "a NumPy array containing the created subplot objects\n",
    "'''\n",
    "\n",
    "fig,axes = plt.subplots(2,3)\n",
    "axes\n",
    "\n",
    "'''\n",
    "This is very useful, as the axes array can be easily indexed like a two-dimensional\n",
    "array; for example, axes[0, 1] . You can also indicate that subplots should have the\n",
    "same x- or y-axis using sharex and sharey , respectively. This is especially useful\n",
    "when you’re comparing data on the same scale; otherwise, matplotlib autoscales plot\n",
    "limits independently.\n",
    "'''\n",
    "\n",
    "'''\n",
    "nrows\n",
    "Number of rows of subplots\n",
    "\n",
    "ncols\n",
    "Number of columns of subplots\n",
    "\n",
    "sharex\n",
    "All subplots should use the same x-axis ticks (adjusting the xlim will affect all subplots)\n",
    "\n",
    "sharey\n",
    "All subplots should use the same y-axis ticks (adjusting the ylim will affect all subplots)\n",
    "\n",
    "subplot_kw\n",
    "Dict of keywords passed to add_subplot call used to create each subplot\n",
    "\n",
    "**fig_kw\n",
    "Additional keywords to subplots are used when creating the figure, such as plt.subplots(2, 2,\n",
    "figsize=(8, 6))\n",
    "'''"
   ]
  },
  {
   "cell_type": "code",
   "execution_count": 17,
   "metadata": {},
   "outputs": [
    {
     "data": {
      "image/png": "[encoded data removed]",
      "text/plain": [
       "<Figure size 432x288 with 4 Axes>"
      ]
     },
     "metadata": {},
     "output_type": "display_data"
    }
   ],
   "source": [
    "\n",
    "'''\n",
    "By default matplotlib leaves a certain amount of padding around the outside of the\n",
    "subplots and spacing between subplots. This spacing is all specified relative to the\n",
    "height and width of the plot, so that if you resize the plot either programmatically or\n",
    "manually using the GUI window, the plot will dynamically adjust itself. You can\n",
    "change the spacing using the subplots_adjust method on Figure objects, also avail‐\n",
    "able as a top-level function\n",
    "'''\n",
    "\n",
    "fig, axes = plt.subplots(2, 2, sharex=True, sharey=True)\n",
    "for i in range(2):\n",
    "    for j in range(2):\n",
    "        axes[i, j].hist(np.random.randn(500), bins=50, color='k', alpha=0.5)\n",
    "plt.subplots_adjust(wspace= 0, hspace= 0)"
   ]
  },
  {
   "cell_type": "code",
   "execution_count": null,
   "metadata": {},
   "outputs": [],
   "source": []
  }
 ],
 "metadata": {
  "kernelspec": {
   "display_name": "Python 3",
   "language": "python",
   "name": "python3"
  },
  "language_info": {
   "codemirror_mode": {
    "name": "ipython",
    "version": 3
   },
   "file_extension": ".py",
   "mimetype": "text/x-python",
   "name": "python",
   "nbconvert_exporter": "python",
   "pygments_lexer": "ipython3",
   "version": "3.9.6"
  }
 },
 "nbformat": 4,
 "nbformat_minor": 1
}
