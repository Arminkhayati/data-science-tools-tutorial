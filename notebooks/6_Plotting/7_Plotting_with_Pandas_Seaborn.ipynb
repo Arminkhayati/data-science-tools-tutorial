{
 "cells": [
  {
   "cell_type": "code",
   "execution_count": null,
   "metadata": {
    "collapsed": true
   },
   "outputs": [],
   "source": [
    "import pandas as pd\n",
    "\n",
    "'''\n",
    "matplotlib can be a fairly low-level tool. You assemble a plot from its base compo‐\n",
    "nents: the data display (i.e., the type of plot: line, bar, box, scatter, contour, etc.), leg‐\n",
    "end, title, tick labels, and other annotations.\n",
    "\n",
    "In pandas we may have multiple columns of data, along with row and column labels.\n",
    "pandas itself has built-in methods that simplify creating visualizations from Data‐\n",
    "Frame and Series objects. Another library is seaborn , a statistical graphics library cre‐\n",
    "ated by Michael Waskom. Seaborn simplifies creating many common visualization\n",
    "types.\n",
    "'''"
   ]
  }
 ],
 "metadata": {
  "kernelspec": {
   "display_name": "Python 2",
   "language": "python",
   "name": "python2"
  },
  "language_info": {
   "codemirror_mode": {
    "name": "ipython",
    "version": 2
   },
   "file_extension": ".py",
   "mimetype": "text/x-python",
   "name": "python",
   "nbconvert_exporter": "python",
   "pygments_lexer": "ipython2",
   "version": "2.7.6"
  }
 },
 "nbformat": 4,
 "nbformat_minor": 0
}
