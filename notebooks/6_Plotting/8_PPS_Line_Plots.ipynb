{
 "cells": [
  {
   "cell_type": "code",
   "execution_count": 6,
   "metadata": {
    "collapsed": true
   },
   "outputs": [
    {
     "data": {
      "text/plain": [
       "<matplotlib.axes._subplots.AxesSubplot at 0x7f580a2d9710>"
      ]
     },
     "execution_count": 6,
     "metadata": {},
     "output_type": "execute_result"
    },
    {
     "data": {
      "image/png": "[encoded data removed]",
      "text/plain": [
       "<Figure size 432x288 with 1 Axes>"
      ]
     },
     "metadata": {},
     "output_type": "display_data"
    }
   ],
   "source": [
    "import pandas as pd\n",
    "import numpy as np\n",
    "\n",
    "'''\n",
    "Series and DataFrame each have a plot attribute for making some basic plot types. By\n",
    "default, plot() makes line plots.\n",
    "'''\n",
    "s = pd.Series(np.random.randn(10).cumsum(), index=np.arange(0, 100, 10))\n",
    "s.plot()"
   ]
  },
  {
   "cell_type": "code",
   "execution_count": 8,
   "metadata": {},
   "outputs": [
    {
     "data": {
      "text/plain": [
       "<matplotlib.axes._subplots.AxesSubplot at 0x7f580a226860>"
      ]
     },
     "execution_count": 8,
     "metadata": {},
     "output_type": "execute_result"
    },
    {
     "data": {
      "image/png": "[encoded data removed]",
      "text/plain": [
       "<Figure size 432x288 with 1 Axes>"
      ]
     },
     "metadata": {},
     "output_type": "display_data"
    }
   ],
   "source": [
    "\n",
    "df = pd.DataFrame(np.random.randn(10, 4).cumsum(0),\n",
    "                  columns=['A', 'B', 'C', 'D'],\n",
    "                  index=np.arange(0, 100, 10))\n",
    "'''\n",
    "DataFrame’s plot method plots each of its columns as a different line on the same\n",
    "subplot, creating a legend automatically\n",
    "'''\n",
    "df.plot(kind='bar')"
   ]
  },
  {
   "cell_type": "code",
   "execution_count": null,
   "metadata": {},
   "outputs": [],
   "source": [
    "\n",
    "import pandas as pd\n",
    "\n",
    "\n",
    "'''\n",
    "Table 9-3. Series.plot method arguments:\n",
    "\n",
    "\n",
    "label\n",
    "Label for plot legend\n",
    "\n",
    "ax\n",
    "matplotlib subplot object to plot on; if nothing passed, uses active matplotlib subplot\n",
    "\n",
    "style\n",
    "Style string, like 'ko--' , to be passed to matplotlib\n",
    "\n",
    "alpha\n",
    "The plot fill opacity (from 0 to 1)\n",
    "\n",
    "kind\n",
    "Can be 'area' , 'bar' , 'barh' , 'density' , 'hist' , 'kde' , 'line' , 'pie'\n",
    "\n",
    "logy\n",
    "Use logarithmic scaling on the y-axis\n",
    "\n",
    "use_index \n",
    "Use the object index for tick labels\n",
    "\n",
    "rot\n",
    "Rotation of tick labels (0 through 360)\n",
    "\n",
    "xticks\n",
    "Values to use for x-axis ticks\n",
    "\n",
    "yticks\n",
    "Values to use for y-axis ticks\n",
    "\n",
    "xlim\n",
    "x-axis limits (e.g., [0, 10] )\n",
    "\n",
    "ylim\n",
    "y-axis limits\n",
    "\n",
    "grid\n",
    "Display axis grid (on by default)\n",
    "\n",
    "'''\n",
    "\n",
    "\n",
    "\n",
    "'''\n",
    "\n",
    "Table 9-4. DataFrame-specific plot arguments:\n",
    "\n",
    "subplots\n",
    "Plot each DataFrame column in a separate subplot\n",
    "\n",
    "sharex\n",
    "If subplots=True , share the same x-axis, linking ticks and limits\n",
    "\n",
    "sharey\n",
    "If subplots=True , share the same y-axis\n",
    "\n",
    "figsize\n",
    "Size of figure to create as tuple\n",
    "\n",
    "title\n",
    "Plot title as string\n",
    "\n",
    "legend\n",
    "Add a subplot legend ( True by default)\n",
    "\n",
    "sort_columns \n",
    "Plot columns in alphabetical order; by default uses existing column order\n",
    "\n",
    "'''"
   ]
  }
 ],
 "metadata": {
  "kernelspec": {
   "display_name": "Python 2",
   "language": "python",
   "name": "python2"
  },
  "language_info": {
   "codemirror_mode": {
    "name": "ipython",
    "version": 2
   },
   "file_extension": ".py",
   "mimetype": "text/x-python",
   "name": "python",
   "nbconvert_exporter": "python",
   "pygments_lexer": "ipython2",
   "version": "2.7.6"
  }
 },
 "nbformat": 4,
 "nbformat_minor": 0
}
